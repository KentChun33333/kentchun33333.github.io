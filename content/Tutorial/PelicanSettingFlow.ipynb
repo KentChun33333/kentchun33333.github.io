{
 "cells": [
  {
   "cell_type": "markdown",
   "metadata": {},
   "source": [
    "# Pelican Setting Flow\n",
    "\n",
    "### Reference Links\n",
    "- [Source Code](https://github.com/getpelican/pelican)\n",
    "- [Install Tutorial](https://hackercodex.com/guide/pelican-static-site-generator-install/)\n",
    "- [Plugins Summary](https://github.com/getpelican/pelican/wiki/Externally-hosted-plugins-and-tools)\n",
    "- [Ipynb Integratoin](https://github.com/danielfrg/pelican-ipynb)\n",
    "- [Theme Hub](https://github.com/m-allanson/pelican-themes)\n",
    "- [Reference Setting](https://github.com/playniuniu/myblog)\n",
    "\n"
   ]
  },
  {
   "cell_type": "code",
   "execution_count": null,
   "metadata": {
    "collapsed": true
   },
   "outputs": [],
   "source": []
  }
 ],
 "metadata": {
  "kernelspec": {
   "display_name": "Python [Root]",
   "language": "python",
   "name": "Python [Root]"
  },
  "language_info": {
   "codemirror_mode": {
    "name": "ipython",
    "version": 2
   },
   "file_extension": ".py",
   "mimetype": "text/x-python",
   "name": "python",
   "nbconvert_exporter": "python",
   "pygments_lexer": "ipython2",
   "version": "2.7.12"
  }
 },
 "nbformat": 4,
 "nbformat_minor": 0
}
